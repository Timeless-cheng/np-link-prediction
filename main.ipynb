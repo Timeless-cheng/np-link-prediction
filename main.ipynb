{
 "cells": [
  {
   "cell_type": "code",
   "execution_count": 1,
   "metadata": {},
   "outputs": [],
   "source": [
    "from utils import set_seed, load_data, load_processed_data\n",
    "import numpy as np"
   ]
  },
  {
   "cell_type": "code",
   "execution_count": 4,
   "metadata": {},
   "outputs": [
    {
     "name": "stdout",
     "output_type": "stream",
     "text": [
      "load data from ./Dataset/raw_data/FB15k-237\n",
      "num_entity: 14541\n",
      "num_relation: 237\n",
      "num_train_triples: 272115\n",
      "num_valid_triples: 17535\n",
      "num_test_triples: 20466\n"
     ]
    }
   ],
   "source": [
    "dataset ='FB15k-237'\n",
    "entity2id, relation2id, train_triplets, valid_triplets, train_triplets = load_data('./Dataset/raw_data/{}'.format(dataset))\n",
    "\n",
    "meta_train_task_entity_to_triplets, meta_valid_task_entity_to_triplets, meta_test_task_entity_to_triplets \\\n",
    "    = load_processed_data('./Dataset/processed_data/{}'.format(dataset))\n",
    "        "
   ]
  },
  {
   "cell_type": "code",
   "execution_count": 5,
   "metadata": {},
   "outputs": [
    {
     "name": "stdout",
     "output_type": "stream",
     "text": [
      "num_train_entity:  2500\n",
      "num_valid_entity:  1000\n",
      "num_test_entity:  1500\n"
     ]
    }
   ],
   "source": [
    "# training dataset\n",
    "# 2500/1000/1500\n",
    "train_entity = set(meta_train_task_entity_to_triplets.keys())\n",
    "valid_entity = set(meta_valid_task_entity_to_triplets.keys())\n",
    "test_entity = set(meta_test_task_entity_to_triplets.keys())\n",
    "print('num_train_entity: ', len(train_entity))\n",
    "print('num_valid_entity: ', len(valid_entity))\n",
    "print('num_test_entity: ', len(test_entity))"
   ]
  },
  {
   "cell_type": "code",
   "execution_count": 18,
   "metadata": {},
   "outputs": [],
   "source": [
    "counts = np.zeros(95, dtype=int)\n",
    "\n",
    "for unseen in list(train_entity):\n",
    "    triplets = meta_train_task_entity_to_triplets[unseen]\n",
    "    counts[len(triplets)] += 1"
   ]
  },
  {
   "cell_type": "code",
   "execution_count": 23,
   "metadata": {},
   "outputs": [
    {
     "name": "stdout",
     "output_type": "stream",
     "text": [
      "[ 0  0  0  0  1  2 12 29 51 82 87 92 88 83 81 69 78 66 58 77 55 70 55 50\n",
      " 48 53 55 38 32 53 59 52 62 49 46 53 39 34 36 30 23 17 25 29 22 27 23 30\n",
      " 24 22 17 15 16 19 19 17 12 13 12 11 16 16  7 12 12 10  6  8  7  8  5  9\n",
      "  9  2  5  4  3  7  6  6  6  1  1  1  4  3  2  0  0  0  3  2  0  0  1]\n"
     ]
    },
    {
     "data": {
      "image/png": "[encoded data removed]",
      "text/plain": [
       "<Figure size 432x288 with 1 Axes>"
      ]
     },
     "metadata": {
      "needs_background": "light"
     },
     "output_type": "display_data"
    }
   ],
   "source": [
    "import matplotlib.pyplot as plt\n",
    "%matplotlib inline\n",
    "print(counts)\n",
    "plt.plot(np.array(list(range(95))), counts, 's-')\n",
    "plt.show()"
   ]
  },
  {
   "cell_type": "code",
   "execution_count": 22,
   "metadata": {},
   "outputs": [
    {
     "data": {
      "text/plain": [
       "527"
      ]
     },
     "execution_count": 22,
     "metadata": {},
     "output_type": "execute_result"
    }
   ],
   "source": [
    "# training dataset里面少于13个三元组的节点个数 - 527\n",
    "counts[:14].sum()"
   ]
  },
  {
   "cell_type": "code",
   "execution_count": 24,
   "metadata": {},
   "outputs": [
    {
     "data": {
      "text/plain": [
       "array([   0,    0,    0,    0,    1,    3,   15,   44,   95,  177,  264,\n",
       "        356,  444,  527,  608,  677,  755,  821,  879,  956, 1011, 1081,\n",
       "       1136, 1186, 1234, 1287, 1342, 1380, 1412, 1465, 1524, 1576, 1638,\n",
       "       1687, 1733, 1786, 1825, 1859, 1895, 1925, 1948, 1965, 1990, 2019,\n",
       "       2041, 2068, 2091, 2121, 2145, 2167, 2184, 2199, 2215, 2234, 2253,\n",
       "       2270, 2282, 2295, 2307, 2318, 2334, 2350, 2357, 2369, 2381, 2391,\n",
       "       2397, 2405, 2412, 2420, 2425, 2434, 2443, 2445, 2450, 2454, 2457,\n",
       "       2464, 2470, 2476, 2482, 2483, 2484, 2485, 2489, 2492, 2494, 2494,\n",
       "       2494, 2494, 2497, 2499, 2499, 2499, 2500])"
      ]
     },
     "execution_count": 24,
     "metadata": {},
     "output_type": "execute_result"
    }
   ],
   "source": [
    "# 计算累计值\n",
    "np.cumsum(counts)"
   ]
  },
  {
   "cell_type": "code",
   "execution_count": 8,
   "metadata": {},
   "outputs": [],
   "source": [
    "# # 训练集有关的triplets\n",
    "# train_entity_ = set(meta_train_task_triplets[:, 0]) | set(meta_train_task_triplets[:, 2])  # 并集， 9578\n",
    "# # no_train_entity = train_entity_ - train_entity  # 除了训练使用的entity之外其他的entity\n",
    "# print(no_train_entity & valid_entity)\n",
    "# print(no_train_entity & test_entity)"
   ]
  },
  {
   "cell_type": "code",
   "execution_count": 7,
   "metadata": {},
   "outputs": [],
   "source": [
    "# # 测试集有关的triplets\n",
    "# test_entity_ = set(meta_test_task_triplets[:, 0]) | set(meta_test_task_triplets[:, 2])  # 并集， 4877\n",
    "# no_test_entity = test_entity_ - test_entity  # 除了训练使用的entity之外其他的entity\n",
    "# print(no_test_entity & valid_entity)\n",
    "# print(no_test_entity & train_entity)"
   ]
  },
  {
   "cell_type": "code",
   "execution_count": 6,
   "metadata": {},
   "outputs": [],
   "source": [
    "# # 验证集有关的triplets\n",
    "# valid_entity_ = set(meta_valid_task_triplets[:, 0]) | set(meta_valid_task_triplets[:, 2])  # 并集， 4877\n",
    "# no_valid_entity = valid_entity_ - valid_entity  # 除了训练使用的entity之外其他的entity\n",
    "# print(no_valid_entity & valid_entity)\n",
    "# print(no_valid_entity & train_entity)"
   ]
  }
 ],
 "metadata": {
  "kernelspec": {
   "display_name": "Python 3.8.13 ('py38')",
   "language": "python",
   "name": "python3"
  },
  "language_info": {
   "codemirror_mode": {
    "name": "ipython",
    "version": 3
   },
   "file_extension": ".py",
   "mimetype": "text/x-python",
   "name": "python",
   "nbconvert_exporter": "python",
   "pygments_lexer": "ipython3",
   "version": "3.8.13"
  },
  "orig_nbformat": 4,
  "vscode": {
   "interpreter": {
    "hash": "597dff1af7a0d125161c38cc09d7049e6f5f873cedfde61b46915952b8f1d84e"
   }
  }
 },
 "nbformat": 4,
 "nbformat_minor": 2
}
