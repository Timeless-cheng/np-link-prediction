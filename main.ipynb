{
 "cells": [
  {
   "cell_type": "code",
   "execution_count": 1,
   "metadata": {},
   "outputs": [],
   "source": [
    "from utils import set_seed, load_data, load_processed_data\n",
    "import numpy as np"
   ]
  },
  {
   "cell_type": "code",
   "execution_count": 2,
   "metadata": {},
   "outputs": [
    {
     "name": "stdout",
     "output_type": "stream",
     "text": [
      "load data from ./Dataset/raw_data/FB15k-237\n",
      "num_entity: 14541\n",
      "num_relation: 237\n",
      "num_train_triples: 272115\n",
      "num_valid_triples: 17535\n",
      "num_test_triples: 20466\n"
     ]
    }
   ],
   "source": [
    "dataset ='FB15k-237'\n",
    "entity2id, relation2id, train_triplets, valid_triplets, train_triplets = load_data('./Dataset/raw_data/{}'.format(dataset))\n",
    "\n",
    "filtered_triplets, meta_train_task_triplets, meta_valid_task_triplets, meta_test_task_triplets, \\\n",
    "meta_train_task_entity_to_triplets, meta_valid_task_entity_to_triplets, meta_test_task_entity_to_triplets \\\n",
    "    = load_processed_data('./Dataset/processed_data/{}'.format(dataset))\n",
    "        "
   ]
  },
  {
   "cell_type": "code",
   "execution_count": 28,
   "metadata": {},
   "outputs": [
    {
     "name": "stdout",
     "output_type": "stream",
     "text": [
      "num_train_entity:  2500\n",
      "num_valid_entity:  1000\n",
      "num_test_entity:  1500\n"
     ]
    }
   ],
   "source": [
    "# training dataset\n",
    "# 2500/1000/1500\n",
    "train_entity = set(meta_train_task_entity_to_triplets.keys())\n",
    "valid_entity = set(meta_valid_task_entity_to_triplets.keys())\n",
    "test_entity = set(meta_test_task_entity_to_triplets.keys())\n",
    "print('num_train_entity: ', len(train_entity))\n",
    "print('num_valid_entity: ', len(valid_entity))\n",
    "print('num_test_entity: ', len(test_entity))"
   ]
  },
  {
   "cell_type": "code",
   "execution_count": 45,
   "metadata": {},
   "outputs": [
    {
     "name": "stdout",
     "output_type": "stream",
     "text": [
      "set()\n",
      "set()\n"
     ]
    }
   ],
   "source": [
    "# 训练集有关的triplets\n",
    "train_entity_ = set(meta_train_task_triplets[:, 0]) | set(meta_train_task_triplets[:, 2])  # 并集， 9578\n",
    "no_train_entity = train_entity_ - train_entity  # 除了训练使用的entity之外其他的entity\n",
    "print(no_train_entity & valid_entity)\n",
    "print(no_train_entity & test_entity)"
   ]
  },
  {
   "cell_type": "code",
   "execution_count": 49,
   "metadata": {},
   "outputs": [
    {
     "name": "stdout",
     "output_type": "stream",
     "text": [
      "set()\n",
      "set()\n"
     ]
    }
   ],
   "source": [
    "# 测试集有关的triplets\n",
    "test_entity_ = set(meta_test_task_triplets[:, 0]) | set(meta_test_task_triplets[:, 2])  # 并集， 4877\n",
    "no_test_entity = test_entity_ - test_entity  # 除了训练使用的entity之外其他的entity\n",
    "print(no_test_entity & valid_entity)\n",
    "print(no_test_entity & train_entity)"
   ]
  },
  {
   "cell_type": "code",
   "execution_count": 50,
   "metadata": {},
   "outputs": [
    {
     "name": "stdout",
     "output_type": "stream",
     "text": [
      "set()\n",
      "set()\n"
     ]
    }
   ],
   "source": [
    "# 验证集有关的triplets\n",
    "valid_entity_ = set(meta_valid_task_triplets[:, 0]) | set(meta_valid_task_triplets[:, 2])  # 并集， 4877\n",
    "no_valid_entity = valid_entity_ - valid_entity  # 除了训练使用的entity之外其他的entity\n",
    "print(no_valid_entity & valid_entity)\n",
    "print(no_valid_entity & train_entity)"
   ]
  },
  {
   "cell_type": "code",
   "execution_count": null,
   "metadata": {},
   "outputs": [],
   "source": []
  }
 ],
 "metadata": {
  "kernelspec": {
   "display_name": "Python 3.7.13 ('base')",
   "language": "python",
   "name": "python3"
  },
  "language_info": {
   "codemirror_mode": {
    "name": "ipython",
    "version": 3
   },
   "file_extension": ".py",
   "mimetype": "text/x-python",
   "name": "python",
   "nbconvert_exporter": "python",
   "pygments_lexer": "ipython3",
   "version": "3.7.13"
  },
  "orig_nbformat": 4,
  "vscode": {
   "interpreter": {
    "hash": "5769c9d086f065b319b85e3f94c93bdcb3706c215c74a6d2c430613f011a3c96"
   }
  }
 },
 "nbformat": 4,
 "nbformat_minor": 2
}
